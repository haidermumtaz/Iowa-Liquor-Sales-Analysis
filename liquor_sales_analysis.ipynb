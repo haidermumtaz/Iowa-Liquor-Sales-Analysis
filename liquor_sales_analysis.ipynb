{
 "cells": [
  {
   "cell_type": "markdown",
   "metadata": {},
   "source": [
    "EDA:\n",
    "\n",
    "Let's begin by importing the necessary libraries and loading the dataset. Since our dataset is massive, and has grown by 25% in just the last 2 years, let's create a subset of the data to work with. Let's analyze the data from 2020 onwards for a more manageable dataset and to observe Covid-19's impact on the liquor sales. We start by filtering the data for dates from 2020 onwards and implementing an multi index structure to optimize performance for our product and time series analysis. This is a one time operation, since loading the original dataset is time consuming, so we will save the output as a parquet file and start our EDA on the parquet file.\n"
   ]
  },
  {
   "cell_type": "code",
   "execution_count": 8,
   "metadata": {},
   "outputs": [
    {
     "name": "stdout",
     "output_type": "stream",
     "text": [
      "Creating 1GB subset...\n"
     ]
    },
    {
     "name": "stderr",
     "output_type": "stream",
     "text": [
      "C:\\Users\\haide\\AppData\\Local\\Temp\\ipykernel_22076\\4035682179.py:38: DtypeWarning: Columns (6) have mixed types. Specify dtype option on import or set low_memory=False.\n",
      "  for chunk in pd.read_csv(input_file, chunksize=chunk_size):\n",
      "C:\\Users\\haide\\AppData\\Local\\Temp\\ipykernel_22076\\4035682179.py:38: DtypeWarning: Columns (6) have mixed types. Specify dtype option on import or set low_memory=False.\n",
      "  for chunk in pd.read_csv(input_file, chunksize=chunk_size):\n",
      "C:\\Users\\haide\\AppData\\Local\\Temp\\ipykernel_22076\\4035682179.py:38: DtypeWarning: Columns (6) have mixed types. Specify dtype option on import or set low_memory=False.\n",
      "  for chunk in pd.read_csv(input_file, chunksize=chunk_size):\n",
      "C:\\Users\\haide\\AppData\\Local\\Temp\\ipykernel_22076\\4035682179.py:38: DtypeWarning: Columns (6) have mixed types. Specify dtype option on import or set low_memory=False.\n",
      "  for chunk in pd.read_csv(input_file, chunksize=chunk_size):\n",
      "C:\\Users\\haide\\AppData\\Local\\Temp\\ipykernel_22076\\4035682179.py:38: DtypeWarning: Columns (6) have mixed types. Specify dtype option on import or set low_memory=False.\n",
      "  for chunk in pd.read_csv(input_file, chunksize=chunk_size):\n",
      "C:\\Users\\haide\\AppData\\Local\\Temp\\ipykernel_22076\\4035682179.py:38: DtypeWarning: Columns (6) have mixed types. Specify dtype option on import or set low_memory=False.\n",
      "  for chunk in pd.read_csv(input_file, chunksize=chunk_size):\n",
      "C:\\Users\\haide\\AppData\\Local\\Temp\\ipykernel_22076\\4035682179.py:38: DtypeWarning: Columns (6) have mixed types. Specify dtype option on import or set low_memory=False.\n",
      "  for chunk in pd.read_csv(input_file, chunksize=chunk_size):\n",
      "C:\\Users\\haide\\AppData\\Local\\Temp\\ipykernel_22076\\4035682179.py:38: DtypeWarning: Columns (6) have mixed types. Specify dtype option on import or set low_memory=False.\n",
      "  for chunk in pd.read_csv(input_file, chunksize=chunk_size):\n",
      "C:\\Users\\haide\\AppData\\Local\\Temp\\ipykernel_22076\\4035682179.py:38: DtypeWarning: Columns (14) have mixed types. Specify dtype option on import or set low_memory=False.\n",
      "  for chunk in pd.read_csv(input_file, chunksize=chunk_size):\n",
      "C:\\Users\\haide\\AppData\\Local\\Temp\\ipykernel_22076\\4035682179.py:38: DtypeWarning: Columns (6) have mixed types. Specify dtype option on import or set low_memory=False.\n",
      "  for chunk in pd.read_csv(input_file, chunksize=chunk_size):\n",
      "C:\\Users\\haide\\AppData\\Local\\Temp\\ipykernel_22076\\4035682179.py:38: DtypeWarning: Columns (6) have mixed types. Specify dtype option on import or set low_memory=False.\n",
      "  for chunk in pd.read_csv(input_file, chunksize=chunk_size):\n"
     ]
    },
    {
     "name": "stdout",
     "output_type": "stream",
     "text": [
      "Finalizing the subset...\n"
     ]
    },
    {
     "name": "stderr",
     "output_type": "stream",
     "text": [
      "C:\\Users\\haide\\AppData\\Local\\Temp\\ipykernel_22076\\4035682179.py:53: DtypeWarning: Columns (6,14) have mixed types. Specify dtype option on import or set low_memory=False.\n",
      "  final_df = pd.read_csv(output_file)\n"
     ]
    },
    {
     "name": "stdout",
     "output_type": "stream",
     "text": [
      "\n",
      "Final file size: 1.00GB\n",
      "Number of rows in subset: 4,300,000\n",
      "Date range: from 2012-01-03 to 2022-09-30\n"
     ]
    }
   ],
   "source": [
    "import pandas as pd\n",
    "import numpy as np\n",
    "import matplotlib.pyplot as plt\n",
    "import seaborn as sns\n",
    "\n",
    "# Load the dataset\n",
    "liquor_sales = pd.read_csv('Iowa_Liquor_Sales.csv')\n",
    "\n",
    "liquor_sales['Date'] = pd.to_datetime(liquor_sales['Date'])\n",
    "\n",
    "# Filter for dates from 2020 onwards\n",
    "filtered_df = liquor_sales[liquor_sales['Date'].dt.year >= 2020].copy()\n",
    "\n",
    "\n",
    "\n",
    "# Sort values first for better performance\n",
    "filtered_df_sorted = filtered_df.sort_values(['Date', 'Item Number', 'Store Number'])\n",
    "\n",
    "# Create multi-index structure optimized for product analysis\n",
    "filtered_df_indexed = filtered_df_sorted.set_index(['Date', 'Item Number', 'Store Number'])\n",
    "\n",
    "# Export to parquet with optimized settings\n",
    "output_filename = 'iowa_liquor_sales_2020_onwards.parquet'\n",
    "filtered_df_indexed.to_parquet(\n",
    "    output_filename,\n",
    "    engine='pyarrow',\n",
    "    compression='snappy'\n",
    ")\n",
    "\n"
   ]
  }
 ],
 "metadata": {
  "kernelspec": {
   "display_name": "Python 3",
   "language": "python",
   "name": "python3"
  },
  "language_info": {
   "codemirror_mode": {
    "name": "ipython",
    "version": 3
   },
   "file_extension": ".py",
   "mimetype": "text/x-python",
   "name": "python",
   "nbconvert_exporter": "python",
   "pygments_lexer": "ipython3",
   "version": "3.12.4"
  }
 },
 "nbformat": 4,
 "nbformat_minor": 2
}
