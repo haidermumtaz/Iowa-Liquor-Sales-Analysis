{
 "cells": [
  {
   "cell_type": "markdown",
   "metadata": {},
   "source": [
    "# EDA\n",
    "\n",
    "Let's begin by importing the necessary libraries and loading the dataset. Since our dataset is massive, and has grown by almost a third in just the last 2 years, let's create a subset of the data to work with. Let's analyze the data from 2020 onwards for a more manageable dataset and to observe Covid-19's impact on the liquor sales. We start by filtering the data for dates from 2020 onwards and implementing an multi index structure to optimize performance for our product and time series analysis. This is a one time operation, since loading the original dataset is time consuming, so we will save the output as a parquet file and start our EDA on the parquet file.\n"
   ]
  },
  {
   "cell_type": "code",
   "execution_count": 1,
   "metadata": {},
   "outputs": [],
   "source": [
    "import pandas as pd\n",
    "import numpy as np\n",
    "import matplotlib.pyplot as plt\n",
    "import seaborn as sns\n",
    "\n",
    "import eda_utils as eda\n",
    "\n",
    "##################################################################################################\n",
    "#                                                                                                #\n",
    "# #Commenting out one time operation                                                             #\n",
    "#                                                                                                #\n",
    "# # Load the dataset                                                                             #\n",
    "# liquor_sales = pd.read_csv('Iowa_Liquor_Sales.csv', low_memory=False)                          #\n",
    "#                                                                                                #\n",
    "# # Convert Date and create filtered copy                                                        #\n",
    "# liquor_sales['Date'] = pd.to_datetime(liquor_sales['Date'])                                    #\n",
    "# filtered_df = liquor_sales[liquor_sales['Date'].dt.year >= 2020].copy()                        #\n",
    "#                                                                                                #\n",
    "# # Handle the Zip Code column specifically                                                      #\n",
    "# filtered_df['Zip Code'] = filtered_df['Zip Code'].astype(str)                                  #\n",
    "#                                                                                                #\n",
    "# # Sort values first for better performance                                                     #\n",
    "# filtered_df_sorted = filtered_df.sort_values(['Date', 'Item Number', 'Store Number'])          #\n",
    "#                                                                                                #\n",
    "# # Create multi-index structure optimized for product analysis                                  #\n",
    "# filtered_df_indexed = filtered_df_sorted.set_index(['Date', 'Item Number', 'Store Number'])    #\n",
    "#                                                                                                #\n",
    "# # Export to parquet with optimized settings                                                    #\n",
    "# output_filename = 'iowa_liquor_sales_2020_onwards.parquet'                                     #\n",
    "# filtered_df_indexed.to_parquet(                                                                #\n",
    "#     output_filename,                                                                           #\n",
    "#     engine='pyarrow',                                                                          #\n",
    "#     compression='snappy'                                                                       #\n",
    "# )                                                                                              #\n",
    "#                                                                                                #\n",
    "##################################################################################################"
   ]
  },
  {
   "cell_type": "markdown",
   "metadata": {},
   "source": [
    "Now that we have our lightweight Parquet formatted dataset, we can start to explore the data. "
   ]
  },
  {
   "cell_type": "code",
   "execution_count": 2,
   "metadata": {},
   "outputs": [
    {
     "data": {
      "text/html": [
       "<div>\n",
       "<style scoped>\n",
       "    .dataframe tbody tr th:only-of-type {\n",
       "        vertical-align: middle;\n",
       "    }\n",
       "\n",
       "    .dataframe tbody tr th {\n",
       "        vertical-align: top;\n",
       "    }\n",
       "\n",
       "    .dataframe thead th {\n",
       "        text-align: right;\n",
       "    }\n",
       "</style>\n",
       "<table border=\"1\" class=\"dataframe\">\n",
       "  <thead>\n",
       "    <tr style=\"text-align: right;\">\n",
       "      <th></th>\n",
       "      <th></th>\n",
       "      <th></th>\n",
       "      <th>Invoice/Item Number</th>\n",
       "      <th>Store Name</th>\n",
       "      <th>Address</th>\n",
       "      <th>City</th>\n",
       "      <th>Zip Code</th>\n",
       "      <th>Store Location</th>\n",
       "      <th>County Number</th>\n",
       "      <th>County</th>\n",
       "      <th>Category</th>\n",
       "      <th>Category Name</th>\n",
       "      <th>...</th>\n",
       "      <th>Vendor Name</th>\n",
       "      <th>Item Description</th>\n",
       "      <th>Pack</th>\n",
       "      <th>Bottle Volume (ml)</th>\n",
       "      <th>State Bottle Cost</th>\n",
       "      <th>State Bottle Retail</th>\n",
       "      <th>Bottles Sold</th>\n",
       "      <th>Sale (Dollars)</th>\n",
       "      <th>Volume Sold (Liters)</th>\n",
       "      <th>Volume Sold (Gallons)</th>\n",
       "    </tr>\n",
       "    <tr>\n",
       "      <th>Date</th>\n",
       "      <th>Item Number</th>\n",
       "      <th>Store Number</th>\n",
       "      <th></th>\n",
       "      <th></th>\n",
       "      <th></th>\n",
       "      <th></th>\n",
       "      <th></th>\n",
       "      <th></th>\n",
       "      <th></th>\n",
       "      <th></th>\n",
       "      <th></th>\n",
       "      <th></th>\n",
       "      <th></th>\n",
       "      <th></th>\n",
       "      <th></th>\n",
       "      <th></th>\n",
       "      <th></th>\n",
       "      <th></th>\n",
       "      <th></th>\n",
       "      <th></th>\n",
       "      <th></th>\n",
       "      <th></th>\n",
       "      <th></th>\n",
       "    </tr>\n",
       "  </thead>\n",
       "  <tbody>\n",
       "    <tr>\n",
       "      <th rowspan=\"5\" valign=\"top\">2020-01-02</th>\n",
       "      <th rowspan=\"3\" valign=\"top\">10006</th>\n",
       "      <th>2611</th>\n",
       "      <td>INV-24307100006</td>\n",
       "      <td>HY-VEE DRUGSTORE / OTTUMWA</td>\n",
       "      <td>1140 NORTH JEFFERSON ST</td>\n",
       "      <td>OTTUMWA</td>\n",
       "      <td>52501</td>\n",
       "      <td>POINT (-92.401538 41.026754000000004)</td>\n",
       "      <td>90.0</td>\n",
       "      <td>WAPELLO</td>\n",
       "      <td>1012200.0</td>\n",
       "      <td>SCOTCH WHISKIES</td>\n",
       "      <td>...</td>\n",
       "      <td>SAZERAC COMPANY  INC</td>\n",
       "      <td>SCORESBY RARE SCOTCH</td>\n",
       "      <td>12</td>\n",
       "      <td>750</td>\n",
       "      <td>5.13</td>\n",
       "      <td>7.70</td>\n",
       "      <td>4</td>\n",
       "      <td>30.8</td>\n",
       "      <td>3.00</td>\n",
       "      <td>0.79</td>\n",
       "    </tr>\n",
       "    <tr>\n",
       "      <th>2684</th>\n",
       "      <td>INV-24299400032</td>\n",
       "      <td>HY-VEE - FOREST CITY</td>\n",
       "      <td>315 HWY 69 NORTH</td>\n",
       "      <td>FOREST CITY</td>\n",
       "      <td>50436</td>\n",
       "      <td>POINT (-93.63235 43.266826)</td>\n",
       "      <td>95.0</td>\n",
       "      <td>WINNEBAGO</td>\n",
       "      <td>1012200.0</td>\n",
       "      <td>SCOTCH WHISKIES</td>\n",
       "      <td>...</td>\n",
       "      <td>SAZERAC COMPANY  INC</td>\n",
       "      <td>SCORESBY RARE SCOTCH</td>\n",
       "      <td>12</td>\n",
       "      <td>750</td>\n",
       "      <td>5.13</td>\n",
       "      <td>7.70</td>\n",
       "      <td>2</td>\n",
       "      <td>15.4</td>\n",
       "      <td>1.50</td>\n",
       "      <td>0.39</td>\n",
       "    </tr>\n",
       "    <tr>\n",
       "      <th>4234</th>\n",
       "      <td>INV-24310500037</td>\n",
       "      <td>FAREWAY STORES #788 / SPENCER</td>\n",
       "      <td>104 E EIGHTH ST</td>\n",
       "      <td>SPENCER</td>\n",
       "      <td>51301</td>\n",
       "      <td>POINT (-95.143388 43.145797)</td>\n",
       "      <td>21.0</td>\n",
       "      <td>CLAY</td>\n",
       "      <td>1012200.0</td>\n",
       "      <td>SCOTCH WHISKIES</td>\n",
       "      <td>...</td>\n",
       "      <td>SAZERAC COMPANY  INC</td>\n",
       "      <td>SCORESBY RARE SCOTCH</td>\n",
       "      <td>12</td>\n",
       "      <td>750</td>\n",
       "      <td>5.13</td>\n",
       "      <td>7.70</td>\n",
       "      <td>3</td>\n",
       "      <td>23.1</td>\n",
       "      <td>2.25</td>\n",
       "      <td>0.59</td>\n",
       "    </tr>\n",
       "    <tr>\n",
       "      <th rowspan=\"2\" valign=\"top\">10008</th>\n",
       "      <th>2500</th>\n",
       "      <td>INV-24290800008</td>\n",
       "      <td>HY-VEE FOOD STORE #1 / AMES</td>\n",
       "      <td>3800 W LINCOLN WAY</td>\n",
       "      <td>AMES</td>\n",
       "      <td>50010</td>\n",
       "      <td>None</td>\n",
       "      <td>85.0</td>\n",
       "      <td>STORY</td>\n",
       "      <td>1012200.0</td>\n",
       "      <td>SCOTCH WHISKIES</td>\n",
       "      <td>...</td>\n",
       "      <td>SAZERAC COMPANY  INC</td>\n",
       "      <td>SCORESBY RARE SCOTCH</td>\n",
       "      <td>6</td>\n",
       "      <td>1750</td>\n",
       "      <td>10.50</td>\n",
       "      <td>15.75</td>\n",
       "      <td>6</td>\n",
       "      <td>94.5</td>\n",
       "      <td>10.50</td>\n",
       "      <td>2.77</td>\n",
       "    </tr>\n",
       "    <tr>\n",
       "      <th>2556</th>\n",
       "      <td>INV-24299900002</td>\n",
       "      <td>HY-VEE WINE AND SPIRITS / ESTHERVILLE</td>\n",
       "      <td>1033 CENTRAL AVENUE</td>\n",
       "      <td>ESTHERVILLE</td>\n",
       "      <td>51334</td>\n",
       "      <td>POINT (-94.829962 43.402096)</td>\n",
       "      <td>32.0</td>\n",
       "      <td>EMMET</td>\n",
       "      <td>1012200.0</td>\n",
       "      <td>SCOTCH WHISKIES</td>\n",
       "      <td>...</td>\n",
       "      <td>SAZERAC COMPANY  INC</td>\n",
       "      <td>SCORESBY RARE SCOTCH</td>\n",
       "      <td>6</td>\n",
       "      <td>1750</td>\n",
       "      <td>10.50</td>\n",
       "      <td>15.75</td>\n",
       "      <td>6</td>\n",
       "      <td>94.5</td>\n",
       "      <td>10.50</td>\n",
       "      <td>2.77</td>\n",
       "    </tr>\n",
       "  </tbody>\n",
       "</table>\n",
       "<p>5 rows × 21 columns</p>\n",
       "</div>"
      ],
      "text/plain": [
       "                                    Invoice/Item Number  \\\n",
       "Date       Item Number Store Number                       \n",
       "2020-01-02 10006       2611             INV-24307100006   \n",
       "                       2684             INV-24299400032   \n",
       "                       4234             INV-24310500037   \n",
       "           10008       2500             INV-24290800008   \n",
       "                       2556             INV-24299900002   \n",
       "\n",
       "                                                                Store Name  \\\n",
       "Date       Item Number Store Number                                          \n",
       "2020-01-02 10006       2611                     HY-VEE DRUGSTORE / OTTUMWA   \n",
       "                       2684                           HY-VEE - FOREST CITY   \n",
       "                       4234                  FAREWAY STORES #788 / SPENCER   \n",
       "           10008       2500                    HY-VEE FOOD STORE #1 / AMES   \n",
       "                       2556          HY-VEE WINE AND SPIRITS / ESTHERVILLE   \n",
       "\n",
       "                                                     Address         City  \\\n",
       "Date       Item Number Store Number                                         \n",
       "2020-01-02 10006       2611          1140 NORTH JEFFERSON ST      OTTUMWA   \n",
       "                       2684                 315 HWY 69 NORTH  FOREST CITY   \n",
       "                       4234                  104 E EIGHTH ST      SPENCER   \n",
       "           10008       2500               3800 W LINCOLN WAY         AMES   \n",
       "                       2556              1033 CENTRAL AVENUE  ESTHERVILLE   \n",
       "\n",
       "                                    Zip Code  \\\n",
       "Date       Item Number Store Number            \n",
       "2020-01-02 10006       2611            52501   \n",
       "                       2684            50436   \n",
       "                       4234            51301   \n",
       "           10008       2500            50010   \n",
       "                       2556            51334   \n",
       "\n",
       "                                                            Store Location  \\\n",
       "Date       Item Number Store Number                                          \n",
       "2020-01-02 10006       2611          POINT (-92.401538 41.026754000000004)   \n",
       "                       2684                    POINT (-93.63235 43.266826)   \n",
       "                       4234                   POINT (-95.143388 43.145797)   \n",
       "           10008       2500                                           None   \n",
       "                       2556                   POINT (-94.829962 43.402096)   \n",
       "\n",
       "                                     County Number     County   Category  \\\n",
       "Date       Item Number Store Number                                        \n",
       "2020-01-02 10006       2611                   90.0    WAPELLO  1012200.0   \n",
       "                       2684                   95.0  WINNEBAGO  1012200.0   \n",
       "                       4234                   21.0       CLAY  1012200.0   \n",
       "           10008       2500                   85.0      STORY  1012200.0   \n",
       "                       2556                   32.0      EMMET  1012200.0   \n",
       "\n",
       "                                       Category Name  ...  \\\n",
       "Date       Item Number Store Number                   ...   \n",
       "2020-01-02 10006       2611          SCOTCH WHISKIES  ...   \n",
       "                       2684          SCOTCH WHISKIES  ...   \n",
       "                       4234          SCOTCH WHISKIES  ...   \n",
       "           10008       2500          SCOTCH WHISKIES  ...   \n",
       "                       2556          SCOTCH WHISKIES  ...   \n",
       "\n",
       "                                              Vendor Name  \\\n",
       "Date       Item Number Store Number                         \n",
       "2020-01-02 10006       2611          SAZERAC COMPANY  INC   \n",
       "                       2684          SAZERAC COMPANY  INC   \n",
       "                       4234          SAZERAC COMPANY  INC   \n",
       "           10008       2500          SAZERAC COMPANY  INC   \n",
       "                       2556          SAZERAC COMPANY  INC   \n",
       "\n",
       "                                         Item Description Pack  \\\n",
       "Date       Item Number Store Number                              \n",
       "2020-01-02 10006       2611          SCORESBY RARE SCOTCH   12   \n",
       "                       2684          SCORESBY RARE SCOTCH   12   \n",
       "                       4234          SCORESBY RARE SCOTCH   12   \n",
       "           10008       2500          SCORESBY RARE SCOTCH    6   \n",
       "                       2556          SCORESBY RARE SCOTCH    6   \n",
       "\n",
       "                                     Bottle Volume (ml)  State Bottle Cost  \\\n",
       "Date       Item Number Store Number                                          \n",
       "2020-01-02 10006       2611                         750               5.13   \n",
       "                       2684                         750               5.13   \n",
       "                       4234                         750               5.13   \n",
       "           10008       2500                        1750              10.50   \n",
       "                       2556                        1750              10.50   \n",
       "\n",
       "                                     State Bottle Retail  Bottles Sold  \\\n",
       "Date       Item Number Store Number                                      \n",
       "2020-01-02 10006       2611                         7.70             4   \n",
       "                       2684                         7.70             2   \n",
       "                       4234                         7.70             3   \n",
       "           10008       2500                        15.75             6   \n",
       "                       2556                        15.75             6   \n",
       "\n",
       "                                     Sale (Dollars)  Volume Sold (Liters)  \\\n",
       "Date       Item Number Store Number                                         \n",
       "2020-01-02 10006       2611                    30.8                  3.00   \n",
       "                       2684                    15.4                  1.50   \n",
       "                       4234                    23.1                  2.25   \n",
       "           10008       2500                    94.5                 10.50   \n",
       "                       2556                    94.5                 10.50   \n",
       "\n",
       "                                     Volume Sold (Gallons)  \n",
       "Date       Item Number Store Number                         \n",
       "2020-01-02 10006       2611                           0.79  \n",
       "                       2684                           0.39  \n",
       "                       4234                           0.59  \n",
       "           10008       2500                           2.77  \n",
       "                       2556                           2.77  \n",
       "\n",
       "[5 rows x 21 columns]"
      ]
     },
     "execution_count": 2,
     "metadata": {},
     "output_type": "execute_result"
    }
   ],
   "source": [
    "liquor_sales = pd.read_parquet('data/iowa_liquor_sales_2020_onwards.parquet')\n",
    "\n",
    "liquor_sales.head()\n"
   ]
  },
  {
   "cell_type": "code",
   "execution_count": 3,
   "metadata": {},
   "outputs": [
    {
     "data": {
      "text/plain": [
       "(13032174, 21)"
      ]
     },
     "execution_count": 3,
     "metadata": {},
     "output_type": "execute_result"
    }
   ],
   "source": [
    "liquor_sales.shape"
   ]
  },
  {
   "cell_type": "code",
   "execution_count": 4,
   "metadata": {},
   "outputs": [
    {
     "name": "stdout",
     "output_type": "stream",
     "text": [
      "<class 'pandas.core.frame.DataFrame'>\n",
      "MultiIndex: 13032174 entries, (Timestamp('2020-01-02 00:00:00'), '10006', 2611) to (Timestamp('2024-12-31 00:00:00'), '994876', 10003)\n",
      "Data columns (total 21 columns):\n",
      " #   Column                 Dtype  \n",
      "---  ------                 -----  \n",
      " 0   Invoice/Item Number    object \n",
      " 1   Store Name             object \n",
      " 2   Address                object \n",
      " 3   City                   object \n",
      " 4   Zip Code               object \n",
      " 5   Store Location         object \n",
      " 6   County Number          float64\n",
      " 7   County                 object \n",
      " 8   Category               float64\n",
      " 9   Category Name          object \n",
      " 10  Vendor Number          float64\n",
      " 11  Vendor Name            object \n",
      " 12  Item Description       object \n",
      " 13  Pack                   int64  \n",
      " 14  Bottle Volume (ml)     int64  \n",
      " 15  State Bottle Cost      float64\n",
      " 16  State Bottle Retail    float64\n",
      " 17  Bottles Sold           int64  \n",
      " 18  Sale (Dollars)         float64\n",
      " 19  Volume Sold (Liters)   float64\n",
      " 20  Volume Sold (Gallons)  float64\n",
      "dtypes: float64(8), int64(3), object(10)\n",
      "memory usage: 2.1+ GB\n"
     ]
    }
   ],
   "source": [
    "liquor_sales.info()"
   ]
  },
  {
   "cell_type": "markdown",
   "metadata": {},
   "source": [
    "Let's see how many cities are in the dataset, along with the cities that have the most transactions."
   ]
  },
  {
   "cell_type": "code",
   "execution_count": 5,
   "metadata": {},
   "outputs": [
    {
     "name": "stdout",
     "output_type": "stream",
     "text": [
      "478\n"
     ]
    },
    {
     "data": {
      "text/plain": [
       "City\n",
       "DES MOINES         1058900\n",
       "CEDAR RAPIDS        839345\n",
       "DAVENPORT           526598\n",
       "WEST DES MOINES     428525\n",
       "WATERLOO            383047\n",
       "                    ...   \n",
       "WAYLAND                 50\n",
       "BADGER                  49\n",
       "IRWIN                   49\n",
       "MANILLA                 35\n",
       "DUNCOMBE                 6\n",
       "Name: count, Length: 478, dtype: int64"
      ]
     },
     "execution_count": 5,
     "metadata": {},
     "output_type": "execute_result"
    }
   ],
   "source": [
    "print(liquor_sales['City'].nunique())\n",
    "liquor_sales['City'].value_counts()\n"
   ]
  },
  {
   "cell_type": "code",
   "execution_count": 6,
   "metadata": {},
   "outputs": [
    {
     "data": {
      "image/png": "[encoded data removed]",
      "text/plain": [
       "<Figure size 1200x600 with 1 Axes>"
      ]
     },
     "metadata": {},
     "output_type": "display_data"
    }
   ],
   "source": [
    "eda.bar_plot_top_n(\n",
    "    data=liquor_sales,\n",
    "    group_by_col='City',\n",
    "    value_col='Sale (Dollars)',\n",
    "    title='Top 10 Cities by Total Sales',\n",
    "    xlabel='Total Sales (Dollars)',\n",
    "    agg_func='count'\n",
    ")"
   ]
  },
  {
   "cell_type": "markdown",
   "metadata": {},
   "source": [
    "Seems like Des Moines has the most transactions, so let's see how many liquor stores are in Des Moines.\n",
    "\n",
    "\n"
   ]
  },
  {
   "cell_type": "code",
   "execution_count": 7,
   "metadata": {},
   "outputs": [
    {
     "name": "stdout",
     "output_type": "stream",
     "text": [
      "100\n"
     ]
    }
   ],
   "source": [
    "print(liquor_sales.reset_index().query(\"City == 'DES MOINES'\")['Store Number'].nunique())\n"
   ]
  },
  {
   "cell_type": "markdown",
   "metadata": {},
   "source": [
    "Does this mean that Des Moines has the most liquor stores in Iowa? Let's find out.\n"
   ]
  },
  {
   "cell_type": "code",
   "execution_count": 8,
   "metadata": {},
   "outputs": [
    {
     "data": {
      "image/png": "[encoded data removed]",
      "text/plain": [
       "<Figure size 1200x600 with 1 Axes>"
      ]
     },
     "metadata": {},
     "output_type": "display_data"
    }
   ],
   "source": [
    "\n",
    "eda.bar_plot_top_n(\n",
    "    data=liquor_sales,\n",
    "    group_by_col='City',\n",
    "    value_col='Store Number',\n",
    "    title='Top 10 Cities by Number of Liquor Stores',\n",
    "    xlabel='Number of Stores',\n",
    "    agg_func='nunique'\n",
    ")"
   ]
  },
  {
   "cell_type": "markdown",
   "metadata": {},
   "source": [
    "Interesting, even though Cedar Rapids has more stores then Des Moines, they are still outsold by almost 20%. By comparing the 2 bargraphs, we can see that more sales does not always equal more stores in the city. If Des Moines is the highest selling city without having the most stores, it means they have a high demand and is a fantastic candidate for a city to add more liquor stores to.\n",
    "\n",
    "Before we start a deep dive into product analysis, let's clean up our dataset and handle missing values\n"
   ]
  },
  {
   "cell_type": "markdown",
   "metadata": {},
   "source": [
    "## Cleaning the Dataset\n",
    "\n",
    "### Let's deal with any missing values"
   ]
  },
  {
   "cell_type": "markdown",
   "metadata": {},
   "source": [
    "We'll start by getting a list of all columns with missing values"
   ]
  },
  {
   "cell_type": "code",
   "execution_count": 9,
   "metadata": {},
   "outputs": [
    {
     "name": "stdout",
     "output_type": "stream",
     "text": [
      "                  Total    Percent\n",
      "County Number   6477908  49.707040\n",
      "Store Location   787088   6.039576\n",
      "Address            3720   0.028545\n",
      "City               3720   0.028545\n",
      "County             3720   0.028545\n",
      "Category            682   0.005233\n",
      "Category Name       682   0.005233\n",
      "Vendor Number         4   0.000031\n",
      "Vendor Name           4   0.000031\n"
     ]
    }
   ],
   "source": [
    "# Calculate missing values\n",
    "total = liquor_sales.isnull().sum()\n",
    "percent = (liquor_sales.isnull().sum()/len(liquor_sales)) * 100  \n",
    "\n",
    "\n",
    "missing_data = pd.DataFrame({\n",
    "    'Total': total,\n",
    "    'Percent': percent\n",
    "})\n",
    "\n",
    "# Filter and sort\n",
    "missing_data = missing_data[missing_data['Total'] > 0].sort_values('Percent', ascending=False)\n",
    "print(missing_data)\n"
   ]
  },
  {
   "cell_type": "markdown",
   "metadata": {},
   "source": [
    "Seems like we have 9 columns with missing values. Let's start from the top and go down.\n",
    "\n",
    "\"County Number\" is missing almost 50% of its values. According to the Dataset description, County Number is the Iowa county number for the county where the store that ordered the liquor is located. Since our County column is only missing .03% of its values, we can go through and map our available Countys to their County Number, in order to impute missing County Number Values.\n"
   ]
  },
  {
   "cell_type": "code",
   "execution_count": 10,
   "metadata": {},
   "outputs": [
    {
     "name": "stdout",
     "output_type": "stream",
     "text": [
      "After filling:\n",
      "Missing County Numbers: 3720\n",
      "Number of values filled: 6474188\n"
     ]
    }
   ],
   "source": [
    "\n",
    "liquor_sales_clean = liquor_sales.copy()\n",
    "\n",
    "missing_before = liquor_sales_clean['County Number'].isna().sum()\n",
    "#Create initial county mapping from valid entries\n",
    "valid_mapping = liquor_sales[['County', 'County Number']].dropna().drop_duplicates()\n",
    "county_number_map = valid_mapping.groupby('County')['County Number'].first().to_dict()\n",
    "\n",
    "# Fill missing County Numbers where we have a County name\n",
    "liquor_sales_clean['County Number'] = liquor_sales_clean.apply(lambda x: county_number_map.get(x['County']) \n",
    "                             if pd.isna(x['County Number']) and pd.notna(x['County']) \n",
    "                             else x['County Number'], axis=1)\n",
    "\n",
    "# Get counts after filling\n",
    "missing_after = liquor_sales_clean['County Number'].isna().sum()\n",
    "\n",
    "print(\"After filling:\")\n",
    "print(\"Missing County Numbers:\", missing_after)\n",
    "print(\"Number of values filled:\", missing_before - missing_after)"
   ]
  },
  {
   "cell_type": "markdown",
   "metadata": {},
   "source": [
    "Our imputation was very successful, and we can see that the remaining missing values exactly match the number of missing County names, meaning these entries are missing both values for County Info. Let's analyze the City information to see if we can use complete records to map cities to their counties, allowing us to also impute the missing values for County name."
   ]
  },
  {
   "cell_type": "code",
   "execution_count": 11,
   "metadata": {},
   "outputs": [
    {
     "name": "stdout",
     "output_type": "stream",
     "text": [
      "After filling:\n",
      "Missing County Numbers: 460\n",
      "Number of values filled: 3260\n"
     ]
    }
   ],
   "source": [
    "missing_before = liquor_sales_clean['County Number'].isna().sum()\n",
    "\n",
    "\n",
    "#Create city-to-county mapping from known good data\n",
    "city_county_dict = (liquor_sales_clean[['City', 'County', 'County Number']]\n",
    "                   .dropna()\n",
    "                   .drop_duplicates()\n",
    "                   .groupby('City')\n",
    "                   .agg({\n",
    "                       'County': 'first',\n",
    "                       'County Number': 'first'\n",
    "                   })\n",
    "                   .to_dict('index'))\n",
    "\n",
    "# Get missing records and extract cities\n",
    "missing_records = liquor_sales_clean[liquor_sales_clean['County'].isna()].copy()\n",
    "missing_records['Extracted_City'] = missing_records['Store Name'].apply(eda.extract_city_from_store)\n",
    "\n",
    "# Create and apply store-based county fixes\n",
    "store_fixes = {\n",
    "    row['Store Name']: city_county_dict[row['Extracted_City']]\n",
    "    for _, row in missing_records.iterrows()\n",
    "    if row['Extracted_City'] in city_county_dict\n",
    "}\n",
    "\n",
    "# Apply fixes based on city extraction\n",
    "for store_name, county_info in store_fixes.items():\n",
    "    mask = (liquor_sales_clean['Store Name'] == store_name) & (liquor_sales_clean['County'].isna())\n",
    "    liquor_sales_clean.loc[mask, ['County', 'County Number']] = [\n",
    "        county_info['County'], \n",
    "        county_info['County Number']\n",
    "    ]\n",
    "\n",
    "missing_after = liquor_sales_clean['County Number'].isna().sum()\n",
    "\n",
    "print(\"After filling:\")\n",
    "print(\"Missing County Numbers:\", missing_after)\n",
    "print(\"Number of values filled:\", missing_before - missing_after)"
   ]
  },
  {
   "cell_type": "markdown",
   "metadata": {},
   "source": [
    "Seems like we have 460 missing values left. Let's take a peek at them to see what other values they are missing and identify another potential mapping we can use to find it's county number."
   ]
  },
  {
   "cell_type": "code",
   "execution_count": 12,
   "metadata": {},
   "outputs": [
    {
     "name": "stdout",
     "output_type": "stream",
     "text": [
      "                                    Invoice/Item Number Store Name Address  \\\n",
      "Date       Item Number Store Number                                          \n",
      "2020-03-03 10550       3808             INV-25585100044  THRIFTWAY    None   \n",
      "           10627       3808             INV-25585100014  THRIFTWAY    None   \n",
      "           10808       3808             INV-25585100039  THRIFTWAY    None   \n",
      "           11296       3808             INV-25585100023  THRIFTWAY    None   \n",
      "           11297       3808             INV-25585100038  THRIFTWAY    None   \n",
      "\n",
      "                                     City Zip Code Store Location  \\\n",
      "Date       Item Number Store Number                                 \n",
      "2020-03-03 10550       3808          None      nan           None   \n",
      "           10627       3808          None      nan           None   \n",
      "           10808       3808          None      nan           None   \n",
      "           11296       3808          None      nan           None   \n",
      "           11297       3808          None      nan           None   \n",
      "\n",
      "                                     County Number County   Category  \\\n",
      "Date       Item Number Store Number                                    \n",
      "2020-03-03 10550       3808                    NaN   None  1012100.0   \n",
      "           10627       3808                    NaN   None  1012100.0   \n",
      "           10808       3808                    NaN   None  1012100.0   \n",
      "           11296       3808                    NaN   None  1012100.0   \n",
      "           11297       3808                    NaN   None  1012100.0   \n",
      "\n",
      "                                         Category Name  ...  \\\n",
      "Date       Item Number Store Number                     ...   \n",
      "2020-03-03 10550       3808          CANADIAN WHISKIES  ...   \n",
      "           10627       3808          CANADIAN WHISKIES  ...   \n",
      "           10808       3808          CANADIAN WHISKIES  ...   \n",
      "           11296       3808          CANADIAN WHISKIES  ...   \n",
      "           11297       3808          CANADIAN WHISKIES  ...   \n",
      "\n",
      "                                            Vendor Name  \\\n",
      "Date       Item Number Store Number                       \n",
      "2020-03-03 10550       3808          HEAVEN HILL BRANDS   \n",
      "           10627       3808             JIM BEAM BRANDS   \n",
      "           10808       3808             DIAGEO AMERICAS   \n",
      "           11296       3808             DIAGEO AMERICAS   \n",
      "           11297       3808             DIAGEO AMERICAS   \n",
      "\n",
      "                                                 Item Description Pack  \\\n",
      "Date       Item Number Store Number                                      \n",
      "2020-03-03 10550       3808          BLACK VELVET TOASTED CARAMEL   12   \n",
      "           10627       3808                  CANADIAN CLUB WHISKY   12   \n",
      "           10808       3808               CROWN ROYAL REGAL APPLE   12   \n",
      "           11296       3808                           CROWN ROYAL   12   \n",
      "           11297       3808                           CROWN ROYAL   12   \n",
      "\n",
      "                                     Bottle Volume (ml)  State Bottle Cost  \\\n",
      "Date       Item Number Store Number                                          \n",
      "2020-03-03 10550       3808                         750               6.75   \n",
      "           10627       3808                        1000               9.71   \n",
      "           10808       3808                        1000              18.89   \n",
      "           11296       3808                         750              15.59   \n",
      "           11297       3808                        1000              18.89   \n",
      "\n",
      "                                     State Bottle Retail  Bottles Sold  \\\n",
      "Date       Item Number Store Number                                      \n",
      "2020-03-03 10550       3808                        10.13             4   \n",
      "           10627       3808                        14.57             2   \n",
      "           10808       3808                        28.34             1   \n",
      "           11296       3808                        23.39             3   \n",
      "           11297       3808                        28.34             1   \n",
      "\n",
      "                                     Sale (Dollars)  Volume Sold (Liters)  \\\n",
      "Date       Item Number Store Number                                         \n",
      "2020-03-03 10550       3808                   40.52                  3.00   \n",
      "           10627       3808                   29.14                  2.00   \n",
      "           10808       3808                   28.34                  1.00   \n",
      "           11296       3808                   70.17                  2.25   \n",
      "           11297       3808                   28.34                  1.00   \n",
      "\n",
      "                                     Volume Sold (Gallons)  \n",
      "Date       Item Number Store Number                         \n",
      "2020-03-03 10550       3808                           0.79  \n",
      "           10627       3808                           0.52  \n",
      "           10808       3808                           0.26  \n",
      "           11296       3808                           0.59  \n",
      "           11297       3808                           0.26  \n",
      "\n",
      "[5 rows x 21 columns]\n"
     ]
    }
   ],
   "source": [
    "print(liquor_sales_clean[liquor_sales_clean['County'].isna()].head())\n"
   ]
  },
  {
   "cell_type": "markdown",
   "metadata": {},
   "source": [
    "It looks like these records are missing all location info in general. The only unique identifier I can see here are the Store Names and Numbers. These transactions were all made at a THRIFTWAY store, so let's see if we can find other transactions records from the same store that might have County info present. This would allow us to implement a Store Name/Number to County info mapping and impute the remaining missing values."
   ]
  },
  {
   "cell_type": "code",
   "execution_count": 13,
   "metadata": {},
   "outputs": [
    {
     "name": "stdout",
     "output_type": "stream",
     "text": [
      "THRIFTWAY records WITH county information:\n",
      "                                                    Store Name           City  \\\n",
      "Date       Item Number Store Number                                             \n",
      "2020-01-07 10550       3808                          THRIFTWAY  LA PORTE CITY   \n",
      "2020-03-31 10550       5931          THRIFTWAY / LA PORTE CITY  LA PORTE CITY   \n",
      "\n",
      "                                         County  County Number  \n",
      "Date       Item Number Store Number                             \n",
      "2020-01-07 10550       3808          BLACK HAWK            7.0  \n",
      "2020-03-31 10550       5931          BLACK HAWK            7.0  \n",
      "\n",
      "THRIFTWAY records WITHOUT county information:\n",
      "                                    Store Name  City County  County Number\n",
      "Date       Item Number Store Number                                       \n",
      "2020-03-03 10550       3808          THRIFTWAY  None   None            NaN\n",
      "\n",
      "Total THRIFTWAY records with county: 2816\n",
      "Total THRIFTWAY records without county: 69\n"
     ]
    }
   ],
   "source": [
    "# Find THRIFTWAY records with county info\n",
    "print(\"THRIFTWAY records WITH county information:\")\n",
    "print(liquor_sales_clean[\n",
    "    (liquor_sales_clean['Store Name'].str.contains('THRIFTWAY', na=False)) & \n",
    "    (liquor_sales_clean['County'].notna())\n",
    "][['Store Name', 'City', 'County', 'County Number']].drop_duplicates())\n",
    "\n",
    "print(\"\\nTHRIFTWAY records WITHOUT county information:\")\n",
    "print(liquor_sales_clean[\n",
    "    (liquor_sales_clean['Store Name'].str.contains('THRIFTWAY', na=False)) & \n",
    "    (liquor_sales_clean['County'].isna())\n",
    "][['Store Name', 'City', 'County', 'County Number']].drop_duplicates())\n",
    "\n",
    "# Get total count of each case\n",
    "with_county = len(liquor_sales_clean[\n",
    "    (liquor_sales_clean['Store Name'].str.contains('THRIFTWAY', na=False)) & \n",
    "    (liquor_sales_clean['County'].notna())\n",
    "])\n",
    "\n",
    "without_county = len(liquor_sales_clean[\n",
    "    (liquor_sales_clean['Store Name'].str.contains('THRIFTWAY', na=False)) & \n",
    "    (liquor_sales_clean['County'].isna())\n",
    "])\n",
    "\n",
    "print(f\"\\nTotal THRIFTWAY records with county: {with_county}\")\n",
    "print(f\"Total THRIFTWAY records without county: {without_county}\")"
   ]
  },
  {
   "cell_type": "markdown",
   "metadata": {},
   "source": [
    "Nice! We can see that our missing THRIFTWAY record matches with the ones that have County Info present. Let's implement a Store Name mapping to County info and match them with our Store Names that are missing County Info. \n"
   ]
  },
  {
   "cell_type": "code",
   "execution_count": 14,
   "metadata": {},
   "outputs": [
    {
     "name": "stdout",
     "output_type": "stream",
     "text": [
      "Before Filling 460\n",
      "After filling:\n",
      "Missing County Numbers: 0\n",
      "Number of values filled: 460\n"
     ]
    }
   ],
   "source": [
    "missing_before = liquor_sales_clean['County Number'].isna().sum()\n",
    "\n",
    "# Get complete store information\n",
    "complete_stores = liquor_sales_clean[liquor_sales_clean['County'].notna()][\n",
    "    ['Store Name', 'City', 'County', 'County Number']\n",
    "].drop_duplicates()\n",
    "\n",
    "# Create mapping using cleaned store names\n",
    "store_mapping = {}\n",
    "for _, row in complete_stores.iterrows():\n",
    "    clean_name = row['Store Name'].split('/')[0].strip()\n",
    "    if clean_name not in store_mapping:\n",
    "        store_mapping[clean_name] = {\n",
    "            'County': row['County'],\n",
    "            'County Number': row['County Number']\n",
    "        }\n",
    "\n",
    "# Apply fixes based on store name matching\n",
    "missing_mask = liquor_sales_clean['County'].isna()\n",
    "for idx, row in liquor_sales_clean[missing_mask].iterrows():\n",
    "    clean_name = row['Store Name'].split('/')[0].strip()\n",
    "    if clean_name in store_mapping:\n",
    "        liquor_sales_clean.loc[\n",
    "            idx,\n",
    "            ['County', 'County Number']\n",
    "        ] = [\n",
    "            store_mapping[clean_name]['County'],\n",
    "            store_mapping[clean_name]['County Number']\n",
    "        ]\n",
    "missing_after = liquor_sales_clean['County Number'].isna().sum()\n",
    "print(\"Before Filling\", missing_before)\n",
    "print(\"After filling:\")\n",
    "print(\"Missing County Numbers:\", missing_after)\n",
    "print(\"Number of values filled:\", missing_before - missing_after)"
   ]
  },
  {
   "cell_type": "markdown",
   "metadata": {},
   "source": [
    "Wonderful, we were able to impute all missing values for County and County Number. Let's see what's next."
   ]
  },
  {
   "cell_type": "code",
   "execution_count": 15,
   "metadata": {},
   "outputs": [
    {
     "name": "stdout",
     "output_type": "stream",
     "text": [
      "                 Total   Percent\n",
      "Store Location  787088  6.039576\n",
      "Address           3720  0.028545\n",
      "City              3720  0.028545\n",
      "Category           682  0.005233\n",
      "Category Name      682  0.005233\n",
      "Vendor Number        4  0.000031\n",
      "Vendor Name          4  0.000031\n"
     ]
    }
   ],
   "source": [
    "total = liquor_sales_clean.isnull().sum()\n",
    "percent = (liquor_sales_clean.isnull().sum()/len(liquor_sales_clean)) * 100  \n",
    "\n",
    "\n",
    "missing_data = pd.DataFrame({\n",
    "    'Total': total,\n",
    "    'Percent': percent\n",
    "})\n",
    "\n",
    "# Filter and sort\n",
    "missing_data = missing_data[missing_data['Total'] > 0].sort_values('Percent', ascending=False)\n",
    "print(missing_data)"
   ]
  },
  {
   "cell_type": "markdown",
   "metadata": {},
   "source": [
    "Store Location is the next biggest culprit, missing around 6% of its values. Since this columns is not really relevant to our analysis, we can safely drop the column."
   ]
  },
  {
   "cell_type": "code",
   "execution_count": 16,
   "metadata": {},
   "outputs": [
    {
     "name": "stdout",
     "output_type": "stream",
     "text": [
      "               Total   Percent\n",
      "Address         3720  0.028545\n",
      "City            3720  0.028545\n",
      "Category         682  0.005233\n",
      "Category Name    682  0.005233\n",
      "Vendor Number      4  0.000031\n",
      "Vendor Name        4  0.000031\n"
     ]
    }
   ],
   "source": [
    "liquor_sales_clean = liquor_sales_clean.drop('Store Location', axis=1)\n",
    "\n",
    "total = liquor_sales_clean.isnull().sum()\n",
    "percent = (liquor_sales_clean.isnull().sum()/len(liquor_sales_clean)) * 100  \n",
    "\n",
    "\n",
    "missing_data = pd.DataFrame({\n",
    "    'Total': total,\n",
    "    'Percent': percent\n",
    "})\n",
    "\n",
    "# Filter and sort\n",
    "missing_data = missing_data[missing_data['Total'] > 0].sort_values('Percent', ascending=False)\n",
    "print(missing_data)"
   ]
  },
  {
   "cell_type": "markdown",
   "metadata": {},
   "source": [
    "For the sake of focus, let's skip Address and City and look at Category and Categry Name. We can see that they have the exact same number of missing values...interesting....\n",
    "Let's check if they are actually the same 682 records."
   ]
  },
  {
   "cell_type": "code",
   "execution_count": 17,
   "metadata": {},
   "outputs": [
    {
     "name": "stdout",
     "output_type": "stream",
     "text": [
      "True\n"
     ]
    }
   ],
   "source": [
    "missing_match = (liquor_sales_clean['Category'].isna() == liquor_sales_clean['Category Name'].isna()).all()\n",
    "print(missing_match)"
   ]
  },
  {
   "cell_type": "markdown",
   "metadata": {},
   "source": [
    "This is great news for us, we can take out 2 birds with 1 stone again. Now let's take a look at these records with missing Category values."
   ]
  },
  {
   "cell_type": "code",
   "execution_count": 18,
   "metadata": {},
   "outputs": [
    {
     "name": "stdout",
     "output_type": "stream",
     "text": [
      "                                                    Item Description  \\\n",
      "Date       Item Number Store Number                                    \n",
      "2020-01-02 36122       2670                          DEEP EDDY 80PRF   \n",
      "                       3625                          DEEP EDDY 80PRF   \n",
      "           80024       2233          BLUE CHAIR BAY BANANA RUM CREAM   \n",
      "                       2543          BLUE CHAIR BAY BANANA RUM CREAM   \n",
      "                       2590          BLUE CHAIR BAY BANANA RUM CREAM   \n",
      "\n",
      "                                     Category Category Name  \n",
      "Date       Item Number Store Number                          \n",
      "2020-01-02 36122       2670               NaN          None  \n",
      "                       3625               NaN          None  \n",
      "           80024       2233               NaN          None  \n",
      "                       2543               NaN          None  \n",
      "                       2590               NaN          None  \n"
     ]
    }
   ],
   "source": [
    "missing_cat = liquor_sales_clean[liquor_sales_clean['Category'].isna()][['Item Description', 'Category', 'Category Name']].head()\n",
    "print(missing_cat)"
   ]
  },
  {
   "cell_type": "markdown",
   "metadata": {},
   "source": [
    "Ok, we can see some Item Descriptions for these transactions. Let's see if we can find other transactions of the same Item Description that has Category Info present."
   ]
  },
  {
   "cell_type": "code",
   "execution_count": 19,
   "metadata": {},
   "outputs": [
    {
     "name": "stdout",
     "output_type": "stream",
     "text": [
      "Checking if these items appear elsewhere with category information:\n",
      "Item: DEEP EDDY 80PRF\n",
      "                                      Category    Category Name\n",
      "Date       Item Number Store Number                            \n",
      "2020-01-03 36124       2548          1031100.0  AMERICAN VODKAS\n",
      "Item: BLUE CHAIR BAY BANANA RUM CREAM\n",
      "                                      Category Category Name\n",
      "Date       Item Number Store Number                         \n",
      "2020-06-01 80024       2539          1062500.0  FLAVORED RUM\n",
      "Item: 99 PINEAPPLE MINI\n",
      "                                      Category                 Category Name\n",
      "Date       Item Number Store Number                                         \n",
      "2020-02-03 84197       2614          1081300.0  AMERICAN CORDIALS & LIQUEURS\n"
     ]
    }
   ],
   "source": [
    "sample_items = liquor_sales_clean[liquor_sales_clean['Category'].isna()]['Item Description'].unique()[:3]\n",
    "print(\"\\\n",
    "Checking if these items appear elsewhere with category information:\")\n",
    "for item in sample_items:\n",
    "    print(f\"\\\n",
    "Item: {item}\")\n",
    "    found_categories = liquor_sales_clean[\n",
    "        (liquor_sales_clean['Item Description'] == item) & \n",
    "        liquor_sales_clean['Category'].notna()\n",
    "    ][['Category', 'Category Name']].drop_duplicates()\n",
    "    print(found_categories)"
   ]
  },
  {
   "cell_type": "markdown",
   "metadata": {},
   "source": [
    "Noice! We can now implement an Item Description to Category Info mapping to impute the missing values for Category and Category Name."
   ]
  },
  {
   "cell_type": "code",
   "execution_count": 20,
   "metadata": {},
   "outputs": [
    {
     "name": "stdout",
     "output_type": "stream",
     "text": [
      "Missing values before imputation: 682\n",
      "Missing values after imputation: 21\n",
      "Number of values imputed: 661\n",
      "Remaining items with missing categories:\n",
      "- BASTILLE 1789\n",
      "- SOOH DIPLOMATICO RESERVA EXCLUSIVA\n",
      "- BAINS CAPE MOUNTAIN WHISKEY\n",
      "- REVEL STOKE SPICED\n",
      "- SKYY INFUSIONS BLOOD ORANGE\n",
      "- DON AMADO MEZCAL RUSTICO\n",
      "- DEKUYPER MIXOLOGIST GINGER\n",
      "- SAUZA CIEN ANOS BLANCO\n",
      "- CEDAR RIDGE RESERVE BOURBON\n",
      "Analysis of remaining missing items:\n",
      "Unique vendors with missing categories:\n",
      "['PALM BAY INTERNATIONAL' 'E & J GALLO WINERY'\n",
      " 'PATERNO IMPORTS LTD / TERLATO WINES INTERNATIONAL' 'PHILLIPS BEVERAGE'\n",
      " 'CAMPARI AMERICA' 'HAAS BROTHERS' 'JIM BEAM BRANDS'\n",
      " 'CEDAR RIDGE VINEYARDS LL']\n"
     ]
    }
   ],
   "source": [
    "# Create a mapping dictionary from items with valid categories\n",
    "category_mapping = liquor_sales_clean[liquor_sales_clean['Category'].notna()].groupby('Item Description').agg({\n",
    "    'Category': 'first',\n",
    "    'Category Name': 'first'\n",
    "}).to_dict('index')\n",
    "\n",
    "# Create a copy of the dataframe to avoid modifying the original\n",
    "liquor_sales_clean_test = liquor_sales_clean.copy()\n",
    "\n",
    "# Count missing before imputation\n",
    "missing_before = liquor_sales_clean_test['Category'].isna().sum()\n",
    "\n",
    "# Impute categories based on exact Item Description matches\n",
    "mask = liquor_sales_clean_test['Category'].isna()\n",
    "liquor_sales_clean_test.loc[mask, 'Category'] = liquor_sales_clean_test.loc[mask, 'Item Description'].map(\n",
    "    lambda x: category_mapping[x]['Category'] if x in category_mapping else None)\n",
    "liquor_sales_clean_test.loc[mask, 'Category Name'] = liquor_sales_clean_test.loc[mask, 'Item Description'].map(\n",
    "    lambda x: category_mapping[x]['Category Name'] if x in category_mapping else None)\n",
    "\n",
    "# Count missing after imputation\n",
    "missing_after = liquor_sales_clean_test['Category'].isna().sum()\n",
    "\n",
    "print(f\"Missing values before imputation: {missing_before}\")\n",
    "print(f\"Missing values after imputation: {missing_after}\")\n",
    "print(f\"Number of values imputed: {missing_before - missing_after}\")\n",
    "\n",
    "# Show remaining items with missing categories\n"
   ]
  },
  {
   "cell_type": "markdown",
   "metadata": {},
   "source": [
    "That was able to fill in most of the missing values. Let's see what we're left with."
   ]
  },
  {
   "cell_type": "code",
   "execution_count": 34,
   "metadata": {},
   "outputs": [
    {
     "name": "stdout",
     "output_type": "stream",
     "text": [
      "\n",
      "Records with missing categories:\n"
     ]
    },
    {
     "data": {
      "text/html": [
       "<div>\n",
       "<style scoped>\n",
       "    .dataframe tbody tr th:only-of-type {\n",
       "        vertical-align: middle;\n",
       "    }\n",
       "\n",
       "    .dataframe tbody tr th {\n",
       "        vertical-align: top;\n",
       "    }\n",
       "\n",
       "    .dataframe thead th {\n",
       "        text-align: right;\n",
       "    }\n",
       "</style>\n",
       "<table border=\"1\" class=\"dataframe\">\n",
       "  <thead>\n",
       "    <tr style=\"text-align: right;\">\n",
       "      <th></th>\n",
       "      <th></th>\n",
       "      <th></th>\n",
       "      <th>Item Description</th>\n",
       "      <th>Category</th>\n",
       "      <th>Category Name</th>\n",
       "    </tr>\n",
       "    <tr>\n",
       "      <th>Date</th>\n",
       "      <th>Item Number</th>\n",
       "      <th>Store Number</th>\n",
       "      <th></th>\n",
       "      <th></th>\n",
       "      <th></th>\n",
       "    </tr>\n",
       "  </thead>\n",
       "  <tbody>\n",
       "    <tr>\n",
       "      <th>2020-01-03</th>\n",
       "      <th>915951</th>\n",
       "      <th>3869</th>\n",
       "      <td>BASTILLE 1789</td>\n",
       "      <td>NaN</td>\n",
       "      <td>None</td>\n",
       "    </tr>\n",
       "    <tr>\n",
       "      <th>2020-01-13</th>\n",
       "      <th>994771</th>\n",
       "      <th>2190</th>\n",
       "      <td>SOOH DIPLOMATICO RESERVA EXCLUSIVA</td>\n",
       "      <td>NaN</td>\n",
       "      <td>None</td>\n",
       "    </tr>\n",
       "    <tr>\n",
       "      <th>2020-02-06</th>\n",
       "      <th>995509</th>\n",
       "      <th>4129</th>\n",
       "      <td>BAINS CAPE MOUNTAIN WHISKEY</td>\n",
       "      <td>NaN</td>\n",
       "      <td>None</td>\n",
       "    </tr>\n",
       "    <tr>\n",
       "      <th>2020-02-10</th>\n",
       "      <th>977256</th>\n",
       "      <th>5102</th>\n",
       "      <td>REVEL STOKE SPICED</td>\n",
       "      <td>NaN</td>\n",
       "      <td>None</td>\n",
       "    </tr>\n",
       "    <tr>\n",
       "      <th>2020-02-24</th>\n",
       "      <th>940831</th>\n",
       "      <th>2633</th>\n",
       "      <td>SKYY INFUSIONS BLOOD ORANGE</td>\n",
       "      <td>NaN</td>\n",
       "      <td>None</td>\n",
       "    </tr>\n",
       "    <tr>\n",
       "      <th>2020-02-27</th>\n",
       "      <th>997877</th>\n",
       "      <th>3869</th>\n",
       "      <td>DON AMADO MEZCAL RUSTICO</td>\n",
       "      <td>NaN</td>\n",
       "      <td>None</td>\n",
       "    </tr>\n",
       "    <tr>\n",
       "      <th>2020-04-16</th>\n",
       "      <th>973508</th>\n",
       "      <th>2515</th>\n",
       "      <td>DEKUYPER MIXOLOGIST GINGER</td>\n",
       "      <td>NaN</td>\n",
       "      <td>None</td>\n",
       "    </tr>\n",
       "    <tr>\n",
       "      <th>2020-04-17</th>\n",
       "      <th>902152</th>\n",
       "      <th>4057</th>\n",
       "      <td>SAUZA CIEN ANOS BLANCO</td>\n",
       "      <td>NaN</td>\n",
       "      <td>None</td>\n",
       "    </tr>\n",
       "    <tr>\n",
       "      <th>2020-05-11</th>\n",
       "      <th>27849</th>\n",
       "      <th>2662</th>\n",
       "      <td>CEDAR RIDGE RESERVE BOURBON</td>\n",
       "      <td>NaN</td>\n",
       "      <td>None</td>\n",
       "    </tr>\n",
       "  </tbody>\n",
       "</table>\n",
       "</div>"
      ],
      "text/plain": [
       "                                                       Item Description  \\\n",
       "Date       Item Number Store Number                                       \n",
       "2020-01-03 915951      3869                               BASTILLE 1789   \n",
       "2020-01-13 994771      2190          SOOH DIPLOMATICO RESERVA EXCLUSIVA   \n",
       "2020-02-06 995509      4129                 BAINS CAPE MOUNTAIN WHISKEY   \n",
       "2020-02-10 977256      5102                          REVEL STOKE SPICED   \n",
       "2020-02-24 940831      2633                 SKYY INFUSIONS BLOOD ORANGE   \n",
       "2020-02-27 997877      3869                    DON AMADO MEZCAL RUSTICO   \n",
       "2020-04-16 973508      2515                  DEKUYPER MIXOLOGIST GINGER   \n",
       "2020-04-17 902152      4057                      SAUZA CIEN ANOS BLANCO   \n",
       "2020-05-11 27849       2662                 CEDAR RIDGE RESERVE BOURBON   \n",
       "\n",
       "                                     Category Category Name  \n",
       "Date       Item Number Store Number                          \n",
       "2020-01-03 915951      3869               NaN          None  \n",
       "2020-01-13 994771      2190               NaN          None  \n",
       "2020-02-06 995509      4129               NaN          None  \n",
       "2020-02-10 977256      5102               NaN          None  \n",
       "2020-02-24 940831      2633               NaN          None  \n",
       "2020-02-27 997877      3869               NaN          None  \n",
       "2020-04-16 973508      2515               NaN          None  \n",
       "2020-04-17 902152      4057               NaN          None  \n",
       "2020-05-11 27849       2662               NaN          None  "
      ]
     },
     "metadata": {},
     "output_type": "display_data"
    },
    {
     "name": "stdout",
     "output_type": "stream",
     "text": [
      "\n",
      "Total missing categories: 21\n"
     ]
    }
   ],
   "source": [
    "remaining_df = liquor_sales_clean_test[\n",
    "    (liquor_sales_clean_test['Category'].isna()) & \n",
    "    (liquor_sales_clean_test['Item Description'].isin(liquor_sales_clean_test[liquor_sales_clean_test['Category'].isna()]['Item Description'].unique()))\n",
    "][['Item Description', 'Vendor Name', 'State Bottle Retail']].drop_duplicates()\n",
    "\n",
    "# print(\"Detailed view of remaining items:\")\n",
    "# print(remaining_df)\n",
    "# print(\"\\nRemaining items with missing categories:\")\n",
    "# display(remaining_df)\n",
    "\n",
    "# Print total number of missing categories after imputation\n",
    "print(\"\\nRecords with missing categories:\")\n",
    "display(liquor_sales_clean_test[liquor_sales_clean_test['Category'].isna()][['Item Description', 'Category', 'Category Name']].drop_duplicates())\n",
    "print(f\"\\nTotal missing categories: {liquor_sales_clean_test['Category'].isna().sum()}\")\n",
    "\n",
    "\n"
   ]
  },
  {
   "cell_type": "markdown",
   "metadata": {},
   "source": [
    "## Product Analysis\n",
    "\n",
    "### Let's find the most popular product categories and brands"
   ]
  },
  {
   "cell_type": "markdown",
   "metadata": {},
   "source": [
    "Let's see how many categories are in the dataset, along with the categories that have the most transactions."
   ]
  },
  {
   "cell_type": "code",
   "execution_count": 21,
   "metadata": {},
   "outputs": [
    {
     "name": "stdout",
     "output_type": "stream",
     "text": [
      "50\n"
     ]
    },
    {
     "data": {
      "text/plain": [
       "Category Name\n",
       "AMERICAN VODKAS                         1978448\n",
       "CANADIAN WHISKIES                       1224386\n",
       "STRAIGHT BOURBON WHISKIES                964827\n",
       "WHISKEY LIQUEUR                          770717\n",
       "AMERICAN FLAVORED VODKA                  614266\n",
       "100% AGAVE TEQUILA                       543098\n",
       "SPICED RUM                               532598\n",
       "BLENDED WHISKIES                         505739\n",
       "AMERICAN SCHNAPPS                        422633\n",
       "COCKTAILS/RTD                            415606\n",
       "TENNESSEE WHISKIES                       374432\n",
       "IMPORTED VODKAS                          336146\n",
       "AMERICAN BRANDIES                        317770\n",
       "AMERICAN CORDIALS & LIQUEURS             317241\n",
       "TEMPORARY & SPECIALTY PACKAGES           306080\n",
       "IMPORTED CORDIALS & LIQUEURS             295109\n",
       "FLAVORED RUM                             284159\n",
       "MIXTO TEQUILA                            282539\n",
       "CREAM LIQUEURS                           258275\n",
       "WHITE RUM                                246754\n",
       "IMPORTED BRANDIES                        233723\n",
       "IMPORTED FLAVORED VODKA                  188619\n",
       "AMERICAN DRY GINS                        188394\n",
       "IMPORTED SCHNAPPS                        185577\n",
       "SCOTCH WHISKIES                          169046\n",
       "IRISH WHISKIES                           165786\n",
       "NEUTRAL GRAIN SPIRITS FLAVORED           142467\n",
       "IMPORTED DRY GINS                        130227\n",
       "STRAIGHT RYE WHISKIES                    108831\n",
       "SINGLE MALT SCOTCH                        95504\n",
       "COFFEE LIQUEURS                           62915\n",
       "GOLD RUM                                  62102\n",
       "AMERICAN DISTILLED SPIRITS SPECIALTY      46508\n",
       "TRIPLE SEC                                43418\n",
       "AGED DARK RUM                             39787\n",
       "BOTTLED IN BOND BOURBON                   33526\n",
       "IMPORTED DISTILLED SPIRITS SPECIALTY      29316\n",
       "SINGLE BARREL BOURBON WHISKIES            29024\n",
       "NEUTRAL GRAIN SPIRITS                     26689\n",
       "SPECIAL ORDER ITEMS                       17916\n",
       "FLAVORED GIN                              17064\n",
       "MEZCAL                                    13204\n",
       "CORN WHISKIES                              7118\n",
       "AMERICAN SLOE GINS                         3546\n",
       "DISTILLED SPIRITS SPECIALTY                 321\n",
       "IMPORTED GINS                                17\n",
       "IMPORTED WHISKIES                            12\n",
       "IOWA DISTILLERY WHISKIES                     10\n",
       "DELISTED / SPECIAL ORDER ITEMS                1\n",
       "AMERICAN WHISKIES                             1\n",
       "Name: count, dtype: int64"
      ]
     },
     "execution_count": 21,
     "metadata": {},
     "output_type": "execute_result"
    }
   ],
   "source": [
    "print(liquor_sales['Category Name'].nunique())\n",
    "liquor_sales['Category Name'].value_counts()"
   ]
  },
  {
   "cell_type": "markdown",
   "metadata": {},
   "source": [
    "50 Categories is a lot. It seems a lot of the categories can be grouped based on the \"type\" of alcohol it is. For example, we have different categories for differnt types of Vodkas and Rums. Let's use those broad categories to design and implement a coarse-grained category system.             "
   ]
  },
  {
   "cell_type": "code",
   "execution_count": 22,
   "metadata": {},
   "outputs": [
    {
     "name": "stdout",
     "output_type": "stream",
     "text": [
      "12\n"
     ]
    },
    {
     "data": {
      "text/plain": [
       "Coarse_Category\n",
       "WHISKIES             4448959\n",
       "VODKA                3117479\n",
       "RUM                  1165400\n",
       "LIQUEURS              976958\n",
       "TEQUILA/MEZCAL        838841\n",
       "SCHNAPPS              608210\n",
       "BRANDIES              551493\n",
       "COCKTAILS/RTD         415606\n",
       "GIN                   339248\n",
       "OTHER                 323997\n",
       "DISTILLED SPIRITS     245301\n",
       "UNKNOWN                  682\n",
       "Name: count, dtype: int64"
      ]
     },
     "execution_count": 22,
     "metadata": {},
     "output_type": "execute_result"
    }
   ],
   "source": [
    "coarse_category_mapping = {\n",
    "    'WHISKIES': ['SCOTCH WHISKIES', 'CANADIAN WHISKIES', 'STRAIGHT RYE WHISKIES', 'IRISH WHISKIES',\n",
    "                 'BLENDED WHISKIES', 'BOTTLED IN BOND BOURBON', 'STRAIGHT BOURBON WHISKIES',\n",
    "                 'SINGLE BARREL BOURBON WHISKIES', 'TENNESSEE WHISKIES', 'CORN WHISKIES',\n",
    "                 'SINGLE MALT SCOTCH', 'IMPORTED WHISKIES', 'AMERICAN WHISKIES', 'IOWA DISTILLERY WHISKIES',\n",
    "                 'WHISKEY LIQUEUR'],  \n",
    "    'RUM': ['SPICED RUM', 'AGED DARK RUM', 'FLAVORED RUM', 'WHITE RUM', 'GOLD RUM'],\n",
    "    'VODKA': ['IMPORTED VODKAS', 'AMERICAN VODKAS', 'IMPORTED FLAVORED VODKA', 'AMERICAN FLAVORED VODKA'],\n",
    "    'GIN': ['IMPORTED DRY GINS', 'AMERICAN DRY GINS', 'FLAVORED GIN', 'IMPORTED GINS', 'AMERICAN SLOE GINS'],\n",
    "    'TEQUILA/MEZCAL': ['100% AGAVE TEQUILA', 'MIXTO TEQUILA', 'MEZCAL'],\n",
    "    'LIQUEURS': ['CREAM LIQUEURS', 'COFFEE LIQUEURS', 'AMERICAN CORDIALS & LIQUEURS', \n",
    "                 'IMPORTED CORDIALS & LIQUEURS', 'TRIPLE SEC'],\n",
    "    'BRANDIES': ['IMPORTED BRANDIES', 'AMERICAN BRANDIES'],  \n",
    "    'SCHNAPPS': ['AMERICAN SCHNAPPS', 'IMPORTED SCHNAPPS'],\n",
    "    'COCKTAILS/RTD': ['COCKTAILS/RTD'],\n",
    "    'DISTILLED SPIRITS': ['AMERICAN DISTILLED SPIRITS SPECIALTY', 'IMPORTED DISTILLED SPIRITS SPECIALTY',\n",
    "                         'DISTILLED SPIRITS SPECIALTY', 'NEUTRAL GRAIN SPIRITS',\n",
    "                         'NEUTRAL GRAIN SPIRITS FLAVORED'],\n",
    "    'OTHER': ['TEMPORARY & SPECIALTY PACKAGES', 'SPECIAL ORDER ITEMS', 'DELISTED / SPECIAL ORDER ITEMS']\n",
    "}\n",
    "\n",
    "liquor_sales['Coarse_Category'] = liquor_sales['Category Name'].apply(\n",
    "    lambda x: eda.map_to_coarse_category(x, coarse_category_mapping)\n",
    ")\n",
    "\n",
    "print(liquor_sales['Coarse_Category'].nunique())\n",
    "liquor_sales['Coarse_Category'].value_counts()\n",
    "\n",
    "\n"
   ]
  },
  {
   "cell_type": "code",
   "execution_count": 23,
   "metadata": {},
   "outputs": [
    {
     "name": "stdout",
     "output_type": "stream",
     "text": [
      "Number of missing values in Category Name: 682\n",
      "\n",
      "Percentage of missing values: 0.0052332020735757516 %\n"
     ]
    }
   ],
   "source": [
    "# Check for missing values in Category Name column\n",
    "print(\"Number of missing values in Category Name:\", liquor_sales['Category Name'].isna().sum())\n",
    "print(\"\\nPercentage of missing values:\", (liquor_sales['Category Name'].isna().sum() / len(liquor_sales)) * 100, \"%\")\n"
   ]
  },
  {
   "cell_type": "code",
   "execution_count": null,
   "metadata": {},
   "outputs": [],
   "source": []
  }
 ],
 "metadata": {
  "kernelspec": {
   "display_name": "Python 3",
   "language": "python",
   "name": "python3"
  },
  "language_info": {
   "codemirror_mode": {
    "name": "ipython",
    "version": 3
   },
   "file_extension": ".py",
   "mimetype": "text/x-python",
   "name": "python",
   "nbconvert_exporter": "python",
   "pygments_lexer": "ipython3",
   "version": "3.12.4"
  }
 },
 "nbformat": 4,
 "nbformat_minor": 2
}
